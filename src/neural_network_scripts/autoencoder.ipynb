{
 "cells": [
  {
   "cell_type": "code",
   "execution_count": null,
   "metadata": {},
   "outputs": [],
   "source": [
    "import numpy as np\n",
    "import torch\n",
    "import matplotlib.pyplot as plt\n",
    "import conv_autoenc\n",
    "import torch.nn as nn\n",
    "import h5py\n",
    "import umap\n",
    "import scipy.spatial as spat"
   ]
  },
  {
   "cell_type": "code",
   "execution_count": null,
   "metadata": {},
   "outputs": [],
   "source": [
    "dset_path=\"./data/data_temp/\"\n",
    "batch_size=20\n",
    "n_z=20\n",
    "n_channels=2\n",
    "visual=True"
   ]
  },
  {
   "cell_type": "code",
   "execution_count": null,
   "metadata": {},
   "outputs": [],
   "source": [
    "h5=h5py.File(dset_path,\"r+\")\n",
    "T,W,H=h5.attrs[\"T\"],h5.attrs[\"W\"],h5.attrs[\"H\"]"
   ]
  },
  {
   "cell_type": "code",
   "execution_count": null,
   "metadata": {},
   "outputs": [],
   "source": [
    "device = torch.device(\"cuda\" if torch.cuda.is_available() else \"cpu\")\n",
    "def to_np(ten):\n",
    "    return ten.cpu().detach().numpy()\n",
    "class DS(torch.utils.data.Dataset):\n",
    "    def __init__(self):\n",
    "        super(DS,self).__init__()\n",
    "    def __getitem__(self,i):\n",
    "        return torch.tensor(np.max(np.array(h5[str(i)+\"/frame\"]),axis=3)/255)\n",
    "    def __len__(self):\n",
    "        return T\n",
    "ds=DS()\n",
    "dl=torch.utils.data.DataLoader(ds,batch_size=batch_size,shuffle=True,pin_memory=True)\n",
    "net=conv_autoenc.Net(n_channels=n_channels,n_z=n_z)\n",
    "net.to(device=device)\n",
    "None"
   ]
  },
  {
   "cell_type": "code",
   "execution_count": null,
   "metadata": {
    "scrolled": true
   },
   "outputs": [],
   "source": [
    "%matplotlib notebook\n",
    "if visual:\n",
    "    fig=plt.figure(figsize=(8,5))\n",
    "    ax1=fig.add_subplot(2,1,1)\n",
    "    lplot=ax1.plot([],[],label=\"Loss\")[0]\n",
    "    ax1.legend()\n",
    "    ax1.set_yscale(\"log\")\n",
    "    ax2=fig.add_subplot(2,2,3)\n",
    "    im=ax2.imshow(np.zeros((W,H)).T,vmin=0,vmax=0.8)\n",
    "    ax3=fig.add_subplot(2,2,4)\n",
    "    imans=ax3.imshow(np.zeros((W,H)).T,vmin=0,vmax=0.8)\n",
    "    def update():\n",
    "        if len(losses)<2:\n",
    "            return\n",
    "        ax1.set_ylim(np.min(losses),np.max(losses))\n",
    "        ax1.set_xlim(1,len(losses))\n",
    "        ts=np.arange(1,len(losses)+1)\n",
    "        lplot.set_data(np.stack([ts,np.array(losses)]))\n",
    "        im.set_array(to_np(res[0,0]).T)\n",
    "        imans.set_array(to_np(ims[0,0]).T)\n",
    "        fig.canvas.draw()\n",
    "num_epochs=30\n",
    "opt=torch.optim.Adam(net.parameters())\n",
    "losses=[]"
   ]
  },
  {
   "cell_type": "code",
   "execution_count": null,
   "metadata": {},
   "outputs": [],
   "source": [
    "for epoch in range(num_epochs):\n",
    "    print(\"\\r Epoch \"+str(epoch+1)+\"/\"+str(num_epochs),end=\"\")\n",
    "    for i,ims in enumerate(dl):\n",
    "        ims=ims.to(device=device,dtype=torch.float32)\n",
    "        res,latent=net(ims)\n",
    "        loss=nn.functional.mse_loss(res,ims)\n",
    "        opt.zero_grad()\n",
    "        loss.backward()\n",
    "        opt.step()\n",
    "        losses.append(loss.item())\n",
    "        if visual:\n",
    "            update()"
   ]
  },
  {
   "cell_type": "code",
   "execution_count": null,
   "metadata": {},
   "outputs": [],
   "source": [
    "net.eval()\n",
    "vecs=[]\n",
    "with torch.no_grad():\n",
    "    for i in range(T):\n",
    "        if (i+1)%100==0:\n",
    "            print(\"\\r\"+str(i)+\"/\"+str(T),end=\"\")\n",
    "        _,latent=net(ds[i].unsqueeze(0).to(device=device,dtype=torch.float32))\n",
    "        vecs.append(to_np(latent[0]))\n",
    "vecs=np.array(vecs)"
   ]
  },
  {
   "cell_type": "code",
   "execution_count": null,
   "metadata": {},
   "outputs": [],
   "source": [
    "key=\"vecs\"\n",
    "if key in h5.keys():\n",
    "    del h5[key]\n",
    "ds=h5.create_dataset(key,shape=(T,n_z),dtype=\"f4\")\n",
    "ds[...]=vecs.astype(np.float32)"
   ]
  },
  {
   "cell_type": "code",
   "execution_count": null,
   "metadata": {},
   "outputs": [],
   "source": [
    "def standardize(vecs):\n",
    "    m=np.mean(vecs,axis=0)\n",
    "    s=np.std(vecs,axis=0)\n",
    "    return (vecs-m)/(s+1e-8)\n",
    "vecs=standardize(vecs)\n",
    "u_map=umap.UMAP(n_components=2)\n",
    "res=u_map.fit_transform(vecs)\n",
    "distmat=spat.distance_matrix(res,res)"
   ]
  },
  {
   "cell_type": "code",
   "execution_count": null,
   "metadata": {},
   "outputs": [],
   "source": [
    "plt.subplot(121)\n",
    "plt.scatter(res[:,0],res[:,1],s=1)\n",
    "plt.subplot(122)\n",
    "plt.imshow(distmat)"
   ]
  },
  {
   "cell_type": "code",
   "execution_count": null,
   "metadata": {},
   "outputs": [],
   "source": [
    "key=\"distmat\"\n",
    "if key in h5.keys():\n",
    "    del h5[key]\n",
    "ds=h5.create_dataset(key,shape=(T,T),dtype=\"f4\")\n",
    "ds[...]=distmat.astype(np.float32)"
   ]
  },
  {
   "cell_type": "code",
   "execution_count": null,
   "metadata": {},
   "outputs": [],
   "source": [
    "#check\n",
    "plt.figure(figsize=(8,4))\n",
    "exs=np.random.choice(T,4,replace=False)\n",
    "for i,ex in enumerate(exs):\n",
    "    plt.subplot(4,5,i*5+1)\n",
    "    plt.imshow(np.max(np.array(h5[str(ex)+\"/frame\"][0]),axis=2).T)\n",
    "    close=np.argsort(distmat[ex])[1:]\n",
    "    for b in range(4):\n",
    "        plt.subplot(4,5,i*5+b+2)\n",
    "        plt.imshow(np.max(np.array(h5[str(close[b])+\"/frame\"][0]),axis=2).T)"
   ]
  },
  {
   "cell_type": "code",
   "execution_count": null,
   "metadata": {},
   "outputs": [],
   "source": [
    "h5.close()"
   ]
  },
  {
   "cell_type": "code",
   "execution_count": null,
   "metadata": {},
   "outputs": [],
   "source": []
  }
 ],
 "metadata": {
  "kernelspec": {
   "display_name": "Python 3",
   "language": "python",
   "name": "python3"
  },
  "language_info": {
   "codemirror_mode": {
    "name": "ipython",
    "version": 3
   },
   "file_extension": ".py",
   "mimetype": "text/x-python",
   "name": "python",
   "nbconvert_exporter": "python",
   "pygments_lexer": "ipython3",
   "version": "3.8.3"
  }
 },
 "nbformat": 4,
 "nbformat_minor": 4
}
